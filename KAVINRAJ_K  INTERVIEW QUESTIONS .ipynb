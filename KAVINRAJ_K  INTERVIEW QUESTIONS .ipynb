{
 "cells": [
  {
   "cell_type": "code",
   "execution_count": 1,
   "id": "5202c8b2",
   "metadata": {},
   "outputs": [
    {
     "data": {
      "text/plain": [
       "'/home/hadoop/hadoop-3.3.4/spark-3.3.0-bin-hadoop3'"
      ]
     },
     "execution_count": 1,
     "metadata": {},
     "output_type": "execute_result"
    }
   ],
   "source": [
    "import pyspark\n",
    "import findspark as fd\n",
    "fd.init()\n",
    "fd.find()"
   ]
  },
  {
   "cell_type": "code",
   "execution_count": 2,
   "id": "f9335517",
   "metadata": {},
   "outputs": [],
   "source": [
    "import pandas as pd\n",
    "import numpy as np"
   ]
  },
  {
   "cell_type": "code",
   "execution_count": 3,
   "id": "78d5aff9",
   "metadata": {},
   "outputs": [],
   "source": [
    "from pyspark.sql import SparkSession\n",
    "from pyspark.sql.functions import *"
   ]
  },
  {
   "cell_type": "code",
   "execution_count": null,
   "id": "9d125cfb",
   "metadata": {},
   "outputs": [],
   "source": []
  },
  {
   "cell_type": "code",
   "execution_count": null,
   "id": "f0705a55",
   "metadata": {},
   "outputs": [],
   "source": []
  },
  {
   "cell_type": "raw",
   "id": "9d91da62",
   "metadata": {},
   "source": [
    "#1. READ ALL THE DATAS"
   ]
  },
  {
   "cell_type": "code",
   "execution_count": 4,
   "id": "fec11836",
   "metadata": {
    "scrolled": true
   },
   "outputs": [
    {
     "name": "stdout",
     "output_type": "stream",
     "text": [
      "22/11/23 22:15:07 WARN Utils: Your hostname, kavin-Inspiron-5559 resolves to a loopback address: 127.0.1.1; using 192.168.0.129 instead (on interface wlp1s0)\n",
      "22/11/23 22:15:07 WARN Utils: Set SPARK_LOCAL_IP if you need to bind to another address\n"
     ]
    },
    {
     "name": "stderr",
     "output_type": "stream",
     "text": [
      "Setting default log level to \"WARN\".\n",
      "To adjust logging level use sc.setLogLevel(newLevel). For SparkR, use setLogLevel(newLevel).\n"
     ]
    },
    {
     "name": "stdout",
     "output_type": "stream",
     "text": [
      "22/11/23 22:15:08 WARN NativeCodeLoader: Unable to load native-hadoop library for your platform... using builtin-java classes where applicable\n"
     ]
    }
   ],
   "source": [
    "spark=SparkSession.builder.appName(\"telecom_data\").getOrCreate()"
   ]
  },
  {
   "cell_type": "code",
   "execution_count": 5,
   "id": "d4901cfd",
   "metadata": {},
   "outputs": [],
   "source": [
    "charges_df=spark.read.load(\"charges.csv\",format=\"csv\",header = \"true\",inferSchema=\"true\")"
   ]
  },
  {
   "cell_type": "code",
   "execution_count": 6,
   "id": "e66bd3b6",
   "metadata": {},
   "outputs": [
    {
     "name": "stderr",
     "output_type": "stream",
     "text": [
      "                                                                                \r"
     ]
    },
    {
     "data": {
      "text/plain": [
       "DataFrame[summary: string, customerID: string, tenure: string, contract: string, paperlessBilling: string, paymentMethod: string, monthlyCharges: string, totalCharges: string, churn: string]"
      ]
     },
     "execution_count": 6,
     "metadata": {},
     "output_type": "execute_result"
    }
   ],
   "source": [
    "charges_df.describe()"
   ]
  },
  {
   "cell_type": "code",
   "execution_count": 7,
   "id": "d96ed519",
   "metadata": {},
   "outputs": [],
   "source": [
    "personal_df=spark.read.load(\"personal.csv\",format=\"csv\",header=\"true\",inferSchema=\"true\")"
   ]
  },
  {
   "cell_type": "code",
   "execution_count": 8,
   "id": "ab6754ba",
   "metadata": {},
   "outputs": [],
   "source": [
    "plan_df=spark.read.load(\"plan.csv\",format=\"csv\",header=\"true\",inferSchema=\"true\")"
   ]
  },
  {
   "cell_type": "code",
   "execution_count": 9,
   "id": "91e34f3b",
   "metadata": {},
   "outputs": [
    {
     "name": "stderr",
     "output_type": "stream",
     "text": [
      "                                                                                \r"
     ]
    },
    {
     "data": {
      "text/plain": [
       "DataFrame[summary: string, customerID: string, gender: string, partner: string, dependents: string, age: string]"
      ]
     },
     "execution_count": 9,
     "metadata": {},
     "output_type": "execute_result"
    }
   ],
   "source": [
    "#personaldata_df.show(truncate=False)\n",
    "personal_df.describe()"
   ]
  },
  {
   "cell_type": "code",
   "execution_count": 10,
   "id": "679313ff",
   "metadata": {},
   "outputs": [
    {
     "name": "stderr",
     "output_type": "stream",
     "text": [
      "                                                                                \r"
     ]
    },
    {
     "data": {
      "text/plain": [
       "DataFrame[summary: string, customerID: string, phoneService: string, multipleLines: string, internetService: string, onlineSecurity: string, onlineBackup: string, deviceProtection: string, techSupport: string, streamingTV: string, streamingMovies: string]"
      ]
     },
     "execution_count": 10,
     "metadata": {},
     "output_type": "execute_result"
    }
   ],
   "source": [
    "#plan_df.show(truncate=False)\n",
    "plan_df.describe()"
   ]
  },
  {
   "cell_type": "code",
   "execution_count": 11,
   "id": "a766ffd6",
   "metadata": {},
   "outputs": [
    {
     "data": {
      "text/plain": [
       "7032"
      ]
     },
     "execution_count": 11,
     "metadata": {},
     "output_type": "execute_result"
    }
   ],
   "source": [
    "charges_df.count()"
   ]
  },
  {
   "cell_type": "code",
   "execution_count": 12,
   "id": "16ece35d",
   "metadata": {},
   "outputs": [
    {
     "data": {
      "text/plain": [
       "5283"
      ]
     },
     "execution_count": 12,
     "metadata": {},
     "output_type": "execute_result"
    }
   ],
   "source": [
    "personal_df.count()"
   ]
  },
  {
   "cell_type": "code",
   "execution_count": 13,
   "id": "dd72339e",
   "metadata": {},
   "outputs": [
    {
     "data": {
      "text/plain": [
       "3540"
      ]
     },
     "execution_count": 13,
     "metadata": {},
     "output_type": "execute_result"
    }
   ],
   "source": [
    "plan_df.count()"
   ]
  },
  {
   "cell_type": "code",
   "execution_count": 14,
   "id": "5f27ebbb",
   "metadata": {},
   "outputs": [],
   "source": [
    "df =charges_df.toPandas()"
   ]
  },
  {
   "cell_type": "code",
   "execution_count": 15,
   "id": "20191e7b",
   "metadata": {},
   "outputs": [],
   "source": [
    "#df1=df"
   ]
  },
  {
   "cell_type": "code",
   "execution_count": null,
   "id": "297e5c61",
   "metadata": {},
   "outputs": [],
   "source": []
  },
  {
   "cell_type": "code",
   "execution_count": null,
   "id": "1e2d2bb5",
   "metadata": {},
   "outputs": [],
   "source": []
  },
  {
   "cell_type": "code",
   "execution_count": null,
   "id": "425d2e49",
   "metadata": {},
   "outputs": [],
   "source": []
  },
  {
   "cell_type": "code",
   "execution_count": null,
   "id": "e12331ac",
   "metadata": {},
   "outputs": [],
   "source": []
  },
  {
   "cell_type": "raw",
   "id": "d21a1a9e",
   "metadata": {},
   "source": [
    "2.CHECK FOR NULL VALUES"
   ]
  },
  {
   "cell_type": "code",
   "execution_count": 16,
   "id": "9829a5bb",
   "metadata": {},
   "outputs": [],
   "source": [
    "cnt=0\n",
    "for row in df[\"monthlyCharges\"]:\n",
    "    try:\n",
    "        int(row)\n",
    "        df.loc[cnt, 'monthlyCharges']=np.nan\n",
    "    except ValueError:\n",
    "        pass\n",
    "    cnt+=1"
   ]
  },
  {
   "cell_type": "code",
   "execution_count": 17,
   "id": "d715a1a2",
   "metadata": {},
   "outputs": [],
   "source": [
    "cnt=0\n",
    "for row in df[\"totalCharges\"]:\n",
    "    try:\n",
    "        int(row)\n",
    "        df.loc[cnt, 'totalCharges']=np.nan\n",
    "    except ValueError:\n",
    "        pass\n",
    "    cnt+=1"
   ]
  },
  {
   "cell_type": "code",
   "execution_count": 18,
   "id": "a2c965a3",
   "metadata": {},
   "outputs": [
    {
     "name": "stdout",
     "output_type": "stream",
     "text": [
      "customerID            0\n",
      "tenure                0\n",
      "contract              0\n",
      "paperlessBilling      0\n",
      "paymentMethod         0\n",
      "monthlyCharges      365\n",
      "totalCharges        300\n",
      "churn                 0\n",
      "dtype: int64\n"
     ]
    }
   ],
   "source": [
    "print(df.isnull().sum())"
   ]
  },
  {
   "cell_type": "code",
   "execution_count": 40,
   "id": "33c96f62",
   "metadata": {},
   "outputs": [],
   "source": []
  },
  {
   "cell_type": "code",
   "execution_count": null,
   "id": "f797a256",
   "metadata": {},
   "outputs": [],
   "source": []
  },
  {
   "cell_type": "code",
   "execution_count": null,
   "id": "2d73db96",
   "metadata": {},
   "outputs": [],
   "source": []
  },
  {
   "cell_type": "code",
   "execution_count": null,
   "id": "aa4e495b",
   "metadata": {},
   "outputs": [],
   "source": []
  },
  {
   "cell_type": "code",
   "execution_count": null,
   "id": "c8b9810b",
   "metadata": {},
   "outputs": [],
   "source": []
  },
  {
   "cell_type": "code",
   "execution_count": null,
   "id": "4e4e8f9e",
   "metadata": {},
   "outputs": [],
   "source": []
  },
  {
   "cell_type": "code",
   "execution_count": null,
   "id": "34e81937",
   "metadata": {},
   "outputs": [],
   "source": []
  },
  {
   "cell_type": "markdown",
   "id": "7fc705fe",
   "metadata": {},
   "source": [
    "#3.FILL THE MISSING VALUES FOR MONTHLYCHARGES"
   ]
  },
  {
   "cell_type": "code",
   "execution_count": 19,
   "id": "fd2442a7",
   "metadata": {},
   "outputs": [],
   "source": [
    "from scipy import stats\n",
    "X=df[\"monthlyCharges\"].replace(to_replace=\"NA\",value=0,inplace=False).astype(float)\n",
    "percentage=0.1\n",
    "average = stats.trim_mean(X, percentage)"
   ]
  },
  {
   "cell_type": "code",
   "execution_count": 20,
   "id": "96d4a63d",
   "metadata": {},
   "outputs": [
    {
     "data": {
      "text/plain": [
       "63.82"
      ]
     },
     "execution_count": 20,
     "metadata": {},
     "output_type": "execute_result"
    }
   ],
   "source": [
    "avg=average.round(2)\n",
    "avg"
   ]
  },
  {
   "cell_type": "code",
   "execution_count": 21,
   "id": "cbbc1407",
   "metadata": {},
   "outputs": [],
   "source": [
    "df[\"monthlyCharges\"].replace(to_replace=\"NA\",value=avg,inplace=True)\n"
   ]
  },
  {
   "cell_type": "code",
   "execution_count": 22,
   "id": "48cbe940",
   "metadata": {},
   "outputs": [
    {
     "name": "stdout",
     "output_type": "stream",
     "text": [
      "      customerID  tenure        contract paperlessBilling  \\\n",
      "0     7590-VHVEG       1  Month-to-month              Yes   \n",
      "1     5575-GNVDE      34        One year               No   \n",
      "2     3668-QPYBK       2  Month-to-month              Yes   \n",
      "3     7795-CFOCW      45        One year               No   \n",
      "4     9237-HQITU       2  Month-to-month              Yes   \n",
      "...          ...     ...             ...              ...   \n",
      "7027  6840-RESVB      24        One year              Yes   \n",
      "7028  2234-XADUH      72        One year              Yes   \n",
      "7029  4801-JZAZL      11  Month-to-month              Yes   \n",
      "7030  8361-LTMKD       4  Month-to-month              Yes   \n",
      "7031  3186-AJIEK      66        Two year              Yes   \n",
      "\n",
      "                  paymentMethod monthlyCharges totalCharges churn  \n",
      "0              Electronic check          29.85        29.85    No  \n",
      "1                  Mailed check          56.95       1889.5    No  \n",
      "2                  Mailed check          53.85       108.15   Yes  \n",
      "3     Bank transfer (automatic)           42.3      1840.75    No  \n",
      "4              Electronic check           70.7       151.65   Yes  \n",
      "...                         ...            ...          ...   ...  \n",
      "7027               Mailed check           84.8       1990.5    No  \n",
      "7028    Credit card (automatic)          63.82           NA    No  \n",
      "7029           Electronic check           29.6       346.45    No  \n",
      "7030               Mailed check           74.4        306.6   Yes  \n",
      "7031  Bank transfer (automatic)         105.65       6844.5    No  \n",
      "\n",
      "[7032 rows x 8 columns]\n"
     ]
    }
   ],
   "source": [
    "print(df)"
   ]
  },
  {
   "cell_type": "code",
   "execution_count": 23,
   "id": "626cbc86",
   "metadata": {},
   "outputs": [
    {
     "data": {
      "text/html": [
       "<div>\n",
       "<style scoped>\n",
       "    .dataframe tbody tr th:only-of-type {\n",
       "        vertical-align: middle;\n",
       "    }\n",
       "\n",
       "    .dataframe tbody tr th {\n",
       "        vertical-align: top;\n",
       "    }\n",
       "\n",
       "    .dataframe thead th {\n",
       "        text-align: right;\n",
       "    }\n",
       "</style>\n",
       "<table border=\"1\" class=\"dataframe\">\n",
       "  <thead>\n",
       "    <tr style=\"text-align: right;\">\n",
       "      <th></th>\n",
       "      <th>customerID</th>\n",
       "      <th>tenure</th>\n",
       "      <th>contract</th>\n",
       "      <th>paperlessBilling</th>\n",
       "      <th>paymentMethod</th>\n",
       "      <th>monthlyCharges</th>\n",
       "      <th>totalCharges</th>\n",
       "      <th>churn</th>\n",
       "    </tr>\n",
       "  </thead>\n",
       "  <tbody>\n",
       "    <tr>\n",
       "      <th>0</th>\n",
       "      <td>7590-VHVEG</td>\n",
       "      <td>1</td>\n",
       "      <td>Month-to-month</td>\n",
       "      <td>Yes</td>\n",
       "      <td>Electronic check</td>\n",
       "      <td>29.85</td>\n",
       "      <td>29.85</td>\n",
       "      <td>No</td>\n",
       "    </tr>\n",
       "    <tr>\n",
       "      <th>1</th>\n",
       "      <td>5575-GNVDE</td>\n",
       "      <td>34</td>\n",
       "      <td>One year</td>\n",
       "      <td>No</td>\n",
       "      <td>Mailed check</td>\n",
       "      <td>56.95</td>\n",
       "      <td>1889.5</td>\n",
       "      <td>No</td>\n",
       "    </tr>\n",
       "    <tr>\n",
       "      <th>2</th>\n",
       "      <td>3668-QPYBK</td>\n",
       "      <td>2</td>\n",
       "      <td>Month-to-month</td>\n",
       "      <td>Yes</td>\n",
       "      <td>Mailed check</td>\n",
       "      <td>53.85</td>\n",
       "      <td>108.15</td>\n",
       "      <td>Yes</td>\n",
       "    </tr>\n",
       "    <tr>\n",
       "      <th>3</th>\n",
       "      <td>7795-CFOCW</td>\n",
       "      <td>45</td>\n",
       "      <td>One year</td>\n",
       "      <td>No</td>\n",
       "      <td>Bank transfer (automatic)</td>\n",
       "      <td>42.3</td>\n",
       "      <td>1840.75</td>\n",
       "      <td>No</td>\n",
       "    </tr>\n",
       "    <tr>\n",
       "      <th>4</th>\n",
       "      <td>9237-HQITU</td>\n",
       "      <td>2</td>\n",
       "      <td>Month-to-month</td>\n",
       "      <td>Yes</td>\n",
       "      <td>Electronic check</td>\n",
       "      <td>70.7</td>\n",
       "      <td>151.65</td>\n",
       "      <td>Yes</td>\n",
       "    </tr>\n",
       "    <tr>\n",
       "      <th>...</th>\n",
       "      <td>...</td>\n",
       "      <td>...</td>\n",
       "      <td>...</td>\n",
       "      <td>...</td>\n",
       "      <td>...</td>\n",
       "      <td>...</td>\n",
       "      <td>...</td>\n",
       "      <td>...</td>\n",
       "    </tr>\n",
       "    <tr>\n",
       "      <th>7027</th>\n",
       "      <td>6840-RESVB</td>\n",
       "      <td>24</td>\n",
       "      <td>One year</td>\n",
       "      <td>Yes</td>\n",
       "      <td>Mailed check</td>\n",
       "      <td>84.8</td>\n",
       "      <td>1990.5</td>\n",
       "      <td>No</td>\n",
       "    </tr>\n",
       "    <tr>\n",
       "      <th>7028</th>\n",
       "      <td>2234-XADUH</td>\n",
       "      <td>72</td>\n",
       "      <td>One year</td>\n",
       "      <td>Yes</td>\n",
       "      <td>Credit card (automatic)</td>\n",
       "      <td>63.82</td>\n",
       "      <td>NA</td>\n",
       "      <td>No</td>\n",
       "    </tr>\n",
       "    <tr>\n",
       "      <th>7029</th>\n",
       "      <td>4801-JZAZL</td>\n",
       "      <td>11</td>\n",
       "      <td>Month-to-month</td>\n",
       "      <td>Yes</td>\n",
       "      <td>Electronic check</td>\n",
       "      <td>29.6</td>\n",
       "      <td>346.45</td>\n",
       "      <td>No</td>\n",
       "    </tr>\n",
       "    <tr>\n",
       "      <th>7030</th>\n",
       "      <td>8361-LTMKD</td>\n",
       "      <td>4</td>\n",
       "      <td>Month-to-month</td>\n",
       "      <td>Yes</td>\n",
       "      <td>Mailed check</td>\n",
       "      <td>74.4</td>\n",
       "      <td>306.6</td>\n",
       "      <td>Yes</td>\n",
       "    </tr>\n",
       "    <tr>\n",
       "      <th>7031</th>\n",
       "      <td>3186-AJIEK</td>\n",
       "      <td>66</td>\n",
       "      <td>Two year</td>\n",
       "      <td>Yes</td>\n",
       "      <td>Bank transfer (automatic)</td>\n",
       "      <td>105.65</td>\n",
       "      <td>6844.5</td>\n",
       "      <td>No</td>\n",
       "    </tr>\n",
       "  </tbody>\n",
       "</table>\n",
       "<p>7032 rows × 8 columns</p>\n",
       "</div>"
      ],
      "text/plain": [
       "      customerID  tenure        contract paperlessBilling  \\\n",
       "0     7590-VHVEG       1  Month-to-month              Yes   \n",
       "1     5575-GNVDE      34        One year               No   \n",
       "2     3668-QPYBK       2  Month-to-month              Yes   \n",
       "3     7795-CFOCW      45        One year               No   \n",
       "4     9237-HQITU       2  Month-to-month              Yes   \n",
       "...          ...     ...             ...              ...   \n",
       "7027  6840-RESVB      24        One year              Yes   \n",
       "7028  2234-XADUH      72        One year              Yes   \n",
       "7029  4801-JZAZL      11  Month-to-month              Yes   \n",
       "7030  8361-LTMKD       4  Month-to-month              Yes   \n",
       "7031  3186-AJIEK      66        Two year              Yes   \n",
       "\n",
       "                  paymentMethod monthlyCharges totalCharges churn  \n",
       "0              Electronic check          29.85        29.85    No  \n",
       "1                  Mailed check          56.95       1889.5    No  \n",
       "2                  Mailed check          53.85       108.15   Yes  \n",
       "3     Bank transfer (automatic)           42.3      1840.75    No  \n",
       "4              Electronic check           70.7       151.65   Yes  \n",
       "...                         ...            ...          ...   ...  \n",
       "7027               Mailed check           84.8       1990.5    No  \n",
       "7028    Credit card (automatic)          63.82           NA    No  \n",
       "7029           Electronic check           29.6       346.45    No  \n",
       "7030               Mailed check           74.4        306.6   Yes  \n",
       "7031  Bank transfer (automatic)         105.65       6844.5    No  \n",
       "\n",
       "[7032 rows x 8 columns]"
      ]
     },
     "execution_count": 23,
     "metadata": {},
     "output_type": "execute_result"
    }
   ],
   "source": [
    "df"
   ]
  },
  {
   "cell_type": "code",
   "execution_count": 31,
   "id": "ed221b02",
   "metadata": {},
   "outputs": [],
   "source": []
  },
  {
   "cell_type": "code",
   "execution_count": null,
   "id": "11d21a04",
   "metadata": {},
   "outputs": [],
   "source": []
  },
  {
   "cell_type": "code",
   "execution_count": null,
   "id": "307cbec0",
   "metadata": {},
   "outputs": [],
   "source": []
  },
  {
   "cell_type": "code",
   "execution_count": null,
   "id": "1d8120b9",
   "metadata": {},
   "outputs": [],
   "source": []
  },
  {
   "cell_type": "markdown",
   "id": "dba1f4f6",
   "metadata": {},
   "source": [
    "#4. FIND THE MISSING VALUES IN TOTALCHARGES"
   ]
  },
  {
   "cell_type": "code",
   "execution_count": null,
   "id": "64cdd30d",
   "metadata": {},
   "outputs": [],
   "source": []
  },
  {
   "cell_type": "code",
   "execution_count": 24,
   "id": "5bf82587",
   "metadata": {},
   "outputs": [],
   "source": [
    "df[\"totalCharges\"].replace(to_replace=\"NA\",value=0,inplace=True)\n"
   ]
  },
  {
   "cell_type": "code",
   "execution_count": 25,
   "id": "3e1a02f5",
   "metadata": {},
   "outputs": [
    {
     "data": {
      "text/plain": [
       "0         29.85\n",
       "1       1889.50\n",
       "2        108.15\n",
       "3       1840.75\n",
       "4        151.65\n",
       "         ...   \n",
       "7027    1990.50\n",
       "7028       0.00\n",
       "7029     346.45\n",
       "7030     306.60\n",
       "7031    6844.50\n",
       "Name: totalCharges, Length: 7032, dtype: float64"
      ]
     },
     "execution_count": 25,
     "metadata": {},
     "output_type": "execute_result"
    }
   ],
   "source": [
    "df[\"totalCharges\"].astype(float)\n"
   ]
  },
  {
   "cell_type": "code",
   "execution_count": 26,
   "id": "bf699415",
   "metadata": {},
   "outputs": [],
   "source": [
    "df[\"tenure\"]=df[\"tenure\"].astype(int)"
   ]
  },
  {
   "cell_type": "code",
   "execution_count": 27,
   "id": "097ed48a",
   "metadata": {},
   "outputs": [],
   "source": [
    "df[\"monthlyCharges\"]=df[\"monthlyCharges\"].astype(float)"
   ]
  },
  {
   "cell_type": "code",
   "execution_count": 28,
   "id": "5164f69a",
   "metadata": {},
   "outputs": [],
   "source": [
    "df[\"totalCharges\"]=df[\"tenure\"]*df[\"monthlyCharges\"]"
   ]
  },
  {
   "cell_type": "code",
   "execution_count": 29,
   "id": "01b418a7",
   "metadata": {},
   "outputs": [
    {
     "data": {
      "text/plain": [
       "0         29.85\n",
       "1       1936.30\n",
       "2        107.70\n",
       "3       1903.50\n",
       "4        141.40\n",
       "         ...   \n",
       "7027    2035.20\n",
       "7028    4595.04\n",
       "7029     325.60\n",
       "7030     297.60\n",
       "7031    6972.90\n",
       "Name: totalCharges, Length: 7032, dtype: float64"
      ]
     },
     "execution_count": 29,
     "metadata": {},
     "output_type": "execute_result"
    }
   ],
   "source": [
    "#print(monthlyChargesvalue)\n",
    "df[\"totalCharges\"]"
   ]
  },
  {
   "cell_type": "code",
   "execution_count": 30,
   "id": "841d14fa",
   "metadata": {},
   "outputs": [
    {
     "data": {
      "text/html": [
       "<div>\n",
       "<style scoped>\n",
       "    .dataframe tbody tr th:only-of-type {\n",
       "        vertical-align: middle;\n",
       "    }\n",
       "\n",
       "    .dataframe tbody tr th {\n",
       "        vertical-align: top;\n",
       "    }\n",
       "\n",
       "    .dataframe thead th {\n",
       "        text-align: right;\n",
       "    }\n",
       "</style>\n",
       "<table border=\"1\" class=\"dataframe\">\n",
       "  <thead>\n",
       "    <tr style=\"text-align: right;\">\n",
       "      <th></th>\n",
       "      <th>customerID</th>\n",
       "      <th>tenure</th>\n",
       "      <th>contract</th>\n",
       "      <th>paperlessBilling</th>\n",
       "      <th>paymentMethod</th>\n",
       "      <th>monthlyCharges</th>\n",
       "      <th>totalCharges</th>\n",
       "      <th>churn</th>\n",
       "    </tr>\n",
       "  </thead>\n",
       "  <tbody>\n",
       "    <tr>\n",
       "      <th>0</th>\n",
       "      <td>7590-VHVEG</td>\n",
       "      <td>1</td>\n",
       "      <td>Month-to-month</td>\n",
       "      <td>Yes</td>\n",
       "      <td>Electronic check</td>\n",
       "      <td>29.85</td>\n",
       "      <td>29.85</td>\n",
       "      <td>No</td>\n",
       "    </tr>\n",
       "    <tr>\n",
       "      <th>1</th>\n",
       "      <td>5575-GNVDE</td>\n",
       "      <td>34</td>\n",
       "      <td>One year</td>\n",
       "      <td>No</td>\n",
       "      <td>Mailed check</td>\n",
       "      <td>56.95</td>\n",
       "      <td>1936.30</td>\n",
       "      <td>No</td>\n",
       "    </tr>\n",
       "    <tr>\n",
       "      <th>2</th>\n",
       "      <td>3668-QPYBK</td>\n",
       "      <td>2</td>\n",
       "      <td>Month-to-month</td>\n",
       "      <td>Yes</td>\n",
       "      <td>Mailed check</td>\n",
       "      <td>53.85</td>\n",
       "      <td>107.70</td>\n",
       "      <td>Yes</td>\n",
       "    </tr>\n",
       "    <tr>\n",
       "      <th>3</th>\n",
       "      <td>7795-CFOCW</td>\n",
       "      <td>45</td>\n",
       "      <td>One year</td>\n",
       "      <td>No</td>\n",
       "      <td>Bank transfer (automatic)</td>\n",
       "      <td>42.30</td>\n",
       "      <td>1903.50</td>\n",
       "      <td>No</td>\n",
       "    </tr>\n",
       "    <tr>\n",
       "      <th>4</th>\n",
       "      <td>9237-HQITU</td>\n",
       "      <td>2</td>\n",
       "      <td>Month-to-month</td>\n",
       "      <td>Yes</td>\n",
       "      <td>Electronic check</td>\n",
       "      <td>70.70</td>\n",
       "      <td>141.40</td>\n",
       "      <td>Yes</td>\n",
       "    </tr>\n",
       "    <tr>\n",
       "      <th>...</th>\n",
       "      <td>...</td>\n",
       "      <td>...</td>\n",
       "      <td>...</td>\n",
       "      <td>...</td>\n",
       "      <td>...</td>\n",
       "      <td>...</td>\n",
       "      <td>...</td>\n",
       "      <td>...</td>\n",
       "    </tr>\n",
       "    <tr>\n",
       "      <th>7027</th>\n",
       "      <td>6840-RESVB</td>\n",
       "      <td>24</td>\n",
       "      <td>One year</td>\n",
       "      <td>Yes</td>\n",
       "      <td>Mailed check</td>\n",
       "      <td>84.80</td>\n",
       "      <td>2035.20</td>\n",
       "      <td>No</td>\n",
       "    </tr>\n",
       "    <tr>\n",
       "      <th>7028</th>\n",
       "      <td>2234-XADUH</td>\n",
       "      <td>72</td>\n",
       "      <td>One year</td>\n",
       "      <td>Yes</td>\n",
       "      <td>Credit card (automatic)</td>\n",
       "      <td>63.82</td>\n",
       "      <td>4595.04</td>\n",
       "      <td>No</td>\n",
       "    </tr>\n",
       "    <tr>\n",
       "      <th>7029</th>\n",
       "      <td>4801-JZAZL</td>\n",
       "      <td>11</td>\n",
       "      <td>Month-to-month</td>\n",
       "      <td>Yes</td>\n",
       "      <td>Electronic check</td>\n",
       "      <td>29.60</td>\n",
       "      <td>325.60</td>\n",
       "      <td>No</td>\n",
       "    </tr>\n",
       "    <tr>\n",
       "      <th>7030</th>\n",
       "      <td>8361-LTMKD</td>\n",
       "      <td>4</td>\n",
       "      <td>Month-to-month</td>\n",
       "      <td>Yes</td>\n",
       "      <td>Mailed check</td>\n",
       "      <td>74.40</td>\n",
       "      <td>297.60</td>\n",
       "      <td>Yes</td>\n",
       "    </tr>\n",
       "    <tr>\n",
       "      <th>7031</th>\n",
       "      <td>3186-AJIEK</td>\n",
       "      <td>66</td>\n",
       "      <td>Two year</td>\n",
       "      <td>Yes</td>\n",
       "      <td>Bank transfer (automatic)</td>\n",
       "      <td>105.65</td>\n",
       "      <td>6972.90</td>\n",
       "      <td>No</td>\n",
       "    </tr>\n",
       "  </tbody>\n",
       "</table>\n",
       "<p>7032 rows × 8 columns</p>\n",
       "</div>"
      ],
      "text/plain": [
       "      customerID  tenure        contract paperlessBilling  \\\n",
       "0     7590-VHVEG       1  Month-to-month              Yes   \n",
       "1     5575-GNVDE      34        One year               No   \n",
       "2     3668-QPYBK       2  Month-to-month              Yes   \n",
       "3     7795-CFOCW      45        One year               No   \n",
       "4     9237-HQITU       2  Month-to-month              Yes   \n",
       "...          ...     ...             ...              ...   \n",
       "7027  6840-RESVB      24        One year              Yes   \n",
       "7028  2234-XADUH      72        One year              Yes   \n",
       "7029  4801-JZAZL      11  Month-to-month              Yes   \n",
       "7030  8361-LTMKD       4  Month-to-month              Yes   \n",
       "7031  3186-AJIEK      66        Two year              Yes   \n",
       "\n",
       "                  paymentMethod  monthlyCharges  totalCharges churn  \n",
       "0              Electronic check           29.85         29.85    No  \n",
       "1                  Mailed check           56.95       1936.30    No  \n",
       "2                  Mailed check           53.85        107.70   Yes  \n",
       "3     Bank transfer (automatic)           42.30       1903.50    No  \n",
       "4              Electronic check           70.70        141.40   Yes  \n",
       "...                         ...             ...           ...   ...  \n",
       "7027               Mailed check           84.80       2035.20    No  \n",
       "7028    Credit card (automatic)           63.82       4595.04    No  \n",
       "7029           Electronic check           29.60        325.60    No  \n",
       "7030               Mailed check           74.40        297.60   Yes  \n",
       "7031  Bank transfer (automatic)          105.65       6972.90    No  \n",
       "\n",
       "[7032 rows x 8 columns]"
      ]
     },
     "execution_count": 30,
     "metadata": {},
     "output_type": "execute_result"
    }
   ],
   "source": [
    "df"
   ]
  },
  {
   "cell_type": "code",
   "execution_count": null,
   "id": "1674a5f1",
   "metadata": {},
   "outputs": [],
   "source": []
  },
  {
   "cell_type": "code",
   "execution_count": null,
   "id": "110c3137",
   "metadata": {},
   "outputs": [],
   "source": []
  },
  {
   "cell_type": "raw",
   "id": "9ba14647",
   "metadata": {},
   "source": [
    "# 5. CHURN RATE"
   ]
  },
  {
   "cell_type": "code",
   "execution_count": null,
   "id": "c410ad76",
   "metadata": {},
   "outputs": [],
   "source": []
  },
  {
   "cell_type": "code",
   "execution_count": 31,
   "id": "78acdca7",
   "metadata": {},
   "outputs": [],
   "source": [
    "import matplotlib.pyplot as pl"
   ]
  },
  {
   "cell_type": "code",
   "execution_count": 32,
   "id": "a68636da",
   "metadata": {},
   "outputs": [
    {
     "data": {
      "text/plain": [
       "No     5163\n",
       "Yes    1869\n",
       "Name: churn, dtype: int64"
      ]
     },
     "execution_count": 32,
     "metadata": {},
     "output_type": "execute_result"
    }
   ],
   "source": [
    "df[\"churn\"].value_counts()"
   ]
  },
  {
   "cell_type": "code",
   "execution_count": 33,
   "id": "90f545c8",
   "metadata": {},
   "outputs": [],
   "source": [
    "#PERCENATGE OF CHURN"
   ]
  },
  {
   "cell_type": "code",
   "execution_count": 34,
   "id": "8c9ee732",
   "metadata": {},
   "outputs": [],
   "source": [
    "PERCENATGE_OF_CHURN=((df[\"churn\"].value_counts()/7032))*100"
   ]
  },
  {
   "cell_type": "code",
   "execution_count": 35,
   "id": "04897d9a",
   "metadata": {},
   "outputs": [
    {
     "data": {
      "text/plain": [
       "No     73.0\n",
       "Yes    27.0\n",
       "Name: churn, dtype: float64"
      ]
     },
     "execution_count": 35,
     "metadata": {},
     "output_type": "execute_result"
    }
   ],
   "source": [
    "PERCENATGE_OF_CHURN.round(0)"
   ]
  },
  {
   "cell_type": "markdown",
   "id": "b08c4685",
   "metadata": {},
   "source": [
    "#VISUALISATION OF CHURN"
   ]
  },
  {
   "cell_type": "code",
   "execution_count": 36,
   "id": "363f8e9d",
   "metadata": {},
   "outputs": [
    {
     "data": {
      "text/plain": [
       "<AxesSubplot: >"
      ]
     },
     "execution_count": 36,
     "metadata": {},
     "output_type": "execute_result"
    },
    {
     "data": {
      "image/png": "[encoded data removed]",
      "text/plain": [
       "<Figure size 640x480 with 1 Axes>"
      ]
     },
     "metadata": {},
     "output_type": "display_data"
    }
   ],
   "source": [
    "df[\"churn\"].value_counts().plot(kind=\"bar\")"
   ]
  },
  {
   "cell_type": "code",
   "execution_count": null,
   "id": "7481282b",
   "metadata": {},
   "outputs": [],
   "source": []
  },
  {
   "cell_type": "code",
   "execution_count": null,
   "id": "4aa83f26",
   "metadata": {},
   "outputs": [],
   "source": []
  },
  {
   "cell_type": "code",
   "execution_count": null,
   "id": "a1ac632e",
   "metadata": {},
   "outputs": [],
   "source": []
  },
  {
   "cell_type": "code",
   "execution_count": null,
   "id": "c7657633",
   "metadata": {},
   "outputs": [],
   "source": []
  },
  {
   "cell_type": "code",
   "execution_count": null,
   "id": "ee18fa84",
   "metadata": {},
   "outputs": [],
   "source": []
  },
  {
   "cell_type": "code",
   "execution_count": null,
   "id": "2a00d5da",
   "metadata": {},
   "outputs": [],
   "source": []
  },
  {
   "cell_type": "markdown",
   "id": "8c975cd9",
   "metadata": {},
   "source": [
    "#6.JOINED DATA"
   ]
  },
  {
   "cell_type": "code",
   "execution_count": null,
   "id": "d872db30",
   "metadata": {},
   "outputs": [],
   "source": []
  },
  {
   "cell_type": "code",
   "execution_count": 37,
   "id": "c2f0e52f",
   "metadata": {},
   "outputs": [
    {
     "name": "stdout",
     "output_type": "stream",
     "text": [
      "+----------+------+--------------+----------------+--------------------+--------------+------------+-----+----------+------+-------+----------+---+----------+------------+----------------+---------------+-------------------+-------------------+-------------------+-------------------+-------------------+-------------------+\n",
      "|customerID|tenure|      contract|paperlessBilling|       paymentMethod|monthlyCharges|totalCharges|churn|customerID|gender|partner|dependents|age|customerID|phoneService|   multipleLines|internetService|     onlineSecurity|       onlineBackup|   deviceProtection|        techSupport|        streamingTV|    streamingMovies|\n",
      "+----------+------+--------------+----------------+--------------------+--------------+------------+-----+----------+------+-------+----------+---+----------+------------+----------------+---------------+-------------------+-------------------+-------------------+-------------------+-------------------+-------------------+\n",
      "|5575-GNVDE|    34|      One year|              No|        Mailed check|         56.95|      1889.5|   No|5575-GNVDE|  Male|     No|        No| 41|5575-GNVDE|         Yes|              No|            DSL|                Yes|                 No|                Yes|                 No|                 No|                 No|\n",
      "|7795-CFOCW|    45|      One year|              No|Bank transfer (au...|          42.3|     1840.75|   No|7795-CFOCW|  Male|     No|        No| 61|7795-CFOCW|          No|No phone service|            DSL|                Yes|                 No|                Yes|                Yes|                 No|                 No|\n",
      "|9237-HQITU|     2|Month-to-month|             Yes|    Electronic check|          70.7|      151.65|  Yes|9237-HQITU|Female|     No|        No| 66|9237-HQITU|         Yes|              No|    Fiber optic|                 No|                 No|                 No|                 No|                 No|                 No|\n",
      "|1452-KIOVK|    22|Month-to-month|             Yes|Credit card (auto...|          89.1|      1949.4|   No|1452-KIOVK|  Male|     No|       Yes| 39|1452-KIOVK|         Yes|             Yes|    Fiber optic|                 No|                Yes|                 No|                 No|                Yes|                 No|\n",
      "|6713-OKOMC|    10|Month-to-month|              No|        Mailed check|         29.75|       301.9|   No|6713-OKOMC|Female|     No|        No| 39|6713-OKOMC|          No|No phone service|            DSL|                Yes|                 No|                 No|                 No|                 No|                 No|\n",
      "|7892-POOKP|    28|Month-to-month|             Yes|    Electronic check|         104.8|     3046.05|  Yes|7892-POOKP|Female|    Yes|        No| 38|7892-POOKP|         Yes|             Yes|    Fiber optic|                 No|                 No|                Yes|                Yes|                Yes|                Yes|\n",
      "|6388-TABGU|    62|      One year|              No|Bank transfer (au...|         56.15|     3487.95|   No|6388-TABGU|  Male|     No|       Yes| 50|6388-TABGU|         Yes|              No|            DSL|                Yes|                Yes|                 No|                 No|                 No|                 No|\n",
      "|9763-GRSKD|    13|Month-to-month|             Yes|        Mailed check|         49.95|      587.45|   No|9763-GRSKD|  Male|    Yes|       Yes| 50|9763-GRSKD|         Yes|              No|            DSL|                Yes|                 No|                 No|                 No|                 No|                 No|\n",
      "|7469-LKBCI|    16|      Two year|              No|Credit card (auto...|         18.95|       326.8|   No|7469-LKBCI|  Male|     No|        No| 47|7469-LKBCI|         Yes|              No|             No|No internet service|No internet service|No internet service|No internet service|No internet service|No internet service|\n",
      "|8091-TTVAX|    58|      One year|              No|Credit card (auto...|        100.35|      5681.1|   No|8091-TTVAX|  Male|    Yes|        No| 60|8091-TTVAX|         Yes|             Yes|    Fiber optic|                 No|                 No|                Yes|                 No|                Yes|                Yes|\n",
      "|0280-XJGEX|    49|Month-to-month|             Yes|Bank transfer (au...|         103.7|      5036.3|  Yes|0280-XJGEX|  Male|     No|        No| 46|0280-XJGEX|         Yes|             Yes|    Fiber optic|                 No|                Yes|                Yes|                 No|                Yes|                Yes|\n",
      "|5129-JLPIS|    25|Month-to-month|             Yes|    Electronic check|         105.5|     2686.05|   No|5129-JLPIS|  Male|     No|        No| 46|5129-JLPIS|         Yes|              No|    Fiber optic|                Yes|                 No|                Yes|                Yes|                Yes|                Yes|\n",
      "|3655-SNQYZ|    69|      Two year|              No|Credit card (auto...|            NA|          NA|   No|3655-SNQYZ|Female|    Yes|       Yes| 41|3655-SNQYZ|         Yes|             Yes|    Fiber optic|                Yes|                Yes|                Yes|                Yes|                Yes|                Yes|\n",
      "|8191-XWSZG|    52|      One year|              No|        Mailed check|         20.65|     1022.95|   No|8191-XWSZG|Female|     No|        No| 64|8191-XWSZG|         Yes|              No|             No|No internet service|No internet service|No internet service|No internet service|No internet service|No internet service|\n",
      "|9959-WOFKT|    71|      Two year|              No|Bank transfer (au...|         106.7|     7382.25|   No|9959-WOFKT|  Male|     No|       Yes| 32|9959-WOFKT|         Yes|             Yes|    Fiber optic|                Yes|                 No|                Yes|                 No|                Yes|                Yes|\n",
      "|4183-MYFRB|    21|Month-to-month|             Yes|    Electronic check|         90.05|      1862.9|   No|4183-MYFRB|Female|     No|        No| 26|4183-MYFRB|         Yes|              No|    Fiber optic|                 No|                Yes|                Yes|                 No|                 No|                Yes|\n",
      "|1066-JKSGK|     1|Month-to-month|              No|        Mailed check|         20.15|       20.15|  Yes|1066-JKSGK|  Male|     No|        No| 88|1066-JKSGK|         Yes|              No|             No|No internet service|No internet service|No internet service|No internet service|No internet service|No internet service|\n",
      "|3638-WEABW|    58|      Two year|             Yes|Credit card (auto...|          59.9|      3505.1|   No|3638-WEABW|Female|    Yes|        No| 75|3638-WEABW|         Yes|             Yes|            DSL|                 No|                Yes|                 No|                Yes|                 No|                 No|\n",
      "|6322-HRPFA|    49|Month-to-month|              No|Credit card (auto...|          59.6|      2970.3|   No|6322-HRPFA|  Male|    Yes|       Yes| 66|6322-HRPFA|         Yes|              No|            DSL|                Yes|                Yes|                 No|                Yes|                 No|                 No|\n",
      "|8665-UTDHZ|     1|Month-to-month|              No|    Electronic check|          30.2|        30.2|  Yes|8665-UTDHZ|  Male|    Yes|       Yes| 65|8665-UTDHZ|          No|No phone service|            DSL|                 No|                Yes|                 No|                 No|                 No|                 No|\n",
      "+----------+------+--------------+----------------+--------------------+--------------+------------+-----+----------+------+-------+----------+---+----------+------------+----------------+---------------+-------------------+-------------------+-------------------+-------------------+-------------------+-------------------+\n",
      "only showing top 20 rows\n",
      "\n"
     ]
    }
   ],
   "source": [
    "\n",
    "charges_df.join(personal_df,charges_df.customerID == personal_df.customerID,\"inner\").join(plan_df,charges_df.customerID==plan_df.customerID,\"inner\").show()"
   ]
  },
  {
   "cell_type": "code",
   "execution_count": null,
   "id": "c8ceb59f",
   "metadata": {},
   "outputs": [],
   "source": []
  },
  {
   "cell_type": "markdown",
   "id": "e479ab4e",
   "metadata": {},
   "source": [
    "#7.AGE GREATER DHAN 65"
   ]
  },
  {
   "cell_type": "code",
   "execution_count": 38,
   "id": "cf5b07dd",
   "metadata": {},
   "outputs": [
    {
     "name": "stdout",
     "output_type": "stream",
     "text": [
      "+---+-----+\n",
      "|age|count|\n",
      "+---+-----+\n",
      "| 85|   46|\n",
      "| 78|   55|\n",
      "| 81|   54|\n",
      "| 76|   51|\n",
      "| 86|   41|\n",
      "| 88|   45|\n",
      "| 72|   49|\n",
      "| 84|   41|\n",
      "| 87|   54|\n",
      "| 69|   44|\n",
      "| 77|   43|\n",
      "| 82|   54|\n",
      "| 80|   51|\n",
      "| 73|   51|\n",
      "| 70|   43|\n",
      "| 90|   15|\n",
      "| 75|   58|\n",
      "| 83|   48|\n",
      "| 71|   58|\n",
      "| 68|   60|\n",
      "| 79|   59|\n",
      "| 66|   60|\n",
      "| 67|   46|\n",
      "| 74|   52|\n",
      "| 89|   51|\n",
      "+---+-----+\n",
      "\n"
     ]
    }
   ],
   "source": [
    "\n",
    "charges_df.join(personal_df,charges_df.customerID == personal_df.customerID,\"inner\").join(plan_df,charges_df.customerID==plan_df.customerID,\"inner\").filter(col(\"age\")>65).groupBy(\"age\").count().show(50)"
   ]
  },
  {
   "cell_type": "code",
   "execution_count": null,
   "id": "be049e0d",
   "metadata": {},
   "outputs": [],
   "source": []
  },
  {
   "cell_type": "code",
   "execution_count": 22,
   "id": "5830d7de",
   "metadata": {},
   "outputs": [],
   "source": []
  },
  {
   "cell_type": "code",
   "execution_count": null,
   "id": "01f78931",
   "metadata": {},
   "outputs": [],
   "source": []
  },
  {
   "cell_type": "code",
   "execution_count": null,
   "id": "8f45f589",
   "metadata": {},
   "outputs": [],
   "source": [
    "\n"
   ]
  },
  {
   "cell_type": "code",
   "execution_count": null,
   "id": "157650e3",
   "metadata": {},
   "outputs": [],
   "source": []
  },
  {
   "cell_type": "code",
   "execution_count": 9,
   "id": "80e0c8d1",
   "metadata": {},
   "outputs": [],
   "source": []
  },
  {
   "cell_type": "code",
   "execution_count": null,
   "id": "2711cfa7",
   "metadata": {},
   "outputs": [],
   "source": []
  },
  {
   "cell_type": "code",
   "execution_count": null,
   "id": "95e7450d",
   "metadata": {},
   "outputs": [],
   "source": []
  }
 ],
 "metadata": {
  "kernelspec": {
   "display_name": "Python 3 (ipykernel)",
   "language": "python",
   "name": "python3"
  },
  "language_info": {
   "codemirror_mode": {
    "name": "ipython",
    "version": 3
   },
   "file_extension": ".py",
   "mimetype": "text/x-python",
   "name": "python",
   "nbconvert_exporter": "python",
   "pygments_lexer": "ipython3",
   "version": "3.10.6"
  }
 },
 "nbformat": 4,
 "nbformat_minor": 5
}
